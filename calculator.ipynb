{
 "cells": [
  {
   "cell_type": "code",
   "execution_count": null,
   "metadata": {},
   "outputs": [],
   "source": [
    "import sys\n",
    "while True:\n",
    "    print(\"\\n\\n '+' for add., '-' for sub., '*' for mult., '/' for div., 'e' for exponent\")\n",
    "    op = str(input(\"enter operation('exit' to stop): \"))\n",
    "    \n",
    "    if op == \"+\" or op == \"-\" or op == \"*\" or op == \"/\":\n",
    "        fn = int(input(\"enter first number: \"))\n",
    "        sn = int(input(\"enter second number: \"))\n",
    "        \n",
    "    if op == \"+\":\n",
    "        result = fn + sn\n",
    "        print(\"result = \", result)  \n",
    "    elif op == \"-\":\n",
    "        result = fn - sn;\n",
    "        print(\"result = \", result)  \n",
    "\n",
    "    elif op == \"*\":\n",
    "        result = fn*sn\n",
    "        print(\"result = \", result)  \n",
    "\n",
    "    elif op == \"/\":\n",
    "        result = round(fn/sn, 2)\n",
    "        print(\"result = \", result)  \n",
    "\n",
    "    elif op == \"e\":\n",
    "        fn = int(input(\"enter number: \"))\n",
    "        sn = int(input(\"enter exponent: \"))\n",
    "        result = 1\n",
    "        for i in range(0, sn):\n",
    "            result = result * fn\n",
    "        print(\"result = \", result) \n",
    "        \n",
    "    elif op.upper() == \"EXIT\":\n",
    "        sys.exit()\n",
    "    else:\n",
    "        print(\"please enter valid operation\")"
   ]
  }
 ],
 "metadata": {
  "kernelspec": {
   "display_name": "Python 3",
   "language": "python",
   "name": "python3"
  },
  "language_info": {
   "codemirror_mode": {
    "name": "ipython",
    "version": 3
   },
   "file_extension": ".py",
   "mimetype": "text/x-python",
   "name": "python",
   "nbconvert_exporter": "python",
   "pygments_lexer": "ipython3",
   "version": "3.7.6"
  }
 },
 "nbformat": 4,
 "nbformat_minor": 4
}
